{
 "cells": [
  {
   "cell_type": "markdown",
   "metadata": {
    "id": "Dt_Zuz1RmAUY"
   },
   "source": [
    "# Deep ROC analysis tool introduction\n",
    "---\n",
    "## for your own results, or with examples\n",
    "### Code by André Carrington, Franz Mayr, Yusuf Sheikh  \n",
    "    \n",
    "This tool analyzes data in ROC plots in greater depth than standard analyses, hence the name: deep ROC analysis. It reveals how a binary diagnostic test or binary classifier performs in different parts of an ROC curve--where the subgroup of high risk or probability for the outcome is the left part of an ROC curve, and low risk is on the right. Different parts or subgroups also pertain to medical screening to rule-out disease (at right) versus medical diagnosis to rule-in disease (at left). We can audit if a test or classifier performs differently in subgroups of risk, and by how much.\n"
    "\n",
    "You can analyze your own ROC data/results, or you can use the built-in example data and settings (hit enter for all inputs to accept defaults). To analyze your own data/results, just paste the probabilities (or classification scores) and labels when asked. It is not a privacy risk since the result information is not identifiable. Or, you can copy this notebook and run it privately wherever you like.\n",
    "\n",
    "In the Jupyter menu at the top left, choose \"Run\" then the last option \"Restart Kernel and Run All Cells...\"\n",
    "\n",
    "- code: https://pypi.org/project/deeproc/  \n",
    "\n",
    "open access papers:    \n",
    "  \n",
    "- Carrington AM, Manuel DG, Fieguth PW, Ramsay T, Osmani V, Wernly B, Bennett C, Hawken S, Magwood O, Sheikh Y, McInnes M, Holzinger A. Deep ROC Analysis and AUC as Balanced Average Accuracy for improved classifier selection, audit and explanation. IEEE Transactions on Pattern Analysis and Machine Intelligence, Early Access, January 25, 2022. https://doi.org/10.1109/TPAMI.2022.3145392\n",
    "\n",
    "- Carrington AM, Fieguth PW, Qazi H, Holzinger A, Chen HH, Mayr F and Manuel DG. A new concordant partial AUC and partial C statistic for imbalanced data in the evaluation of machine learning algorithms, BMC Medical Informatics and Decision Making 20, 4 (2020) https://doi.org/10.1186/s12911-019-1014-6  "
   ]
  },
  {
   "cell_type": "markdown",
   "metadata": {
    "id": "L09KTiU-8OCI"
   },
   "source": [
    "# Install package"
   ]
  },
  {
   "cell_type": "code",
   "execution_count": 1,
   "metadata": {
    "colab": {
     "base_uri": "https://localhost:8080/"
    },
    "id": "JQaLpxSVmEms",
    "outputId": "02e577fb-2bd1-4e9d-c851-21935ebdca2b"
   },
   "outputs": [
    {
     "name": "stdout",
     "output_type": "stream",
     "text": [
      "Collecting deeproc\n",
      "  Downloading deeproc-1.0.6-py3-none-any.whl (56 kB)\n",
      "Installing collected packages: deeproc\n",
      "Successfully installed deeproc-1.0.6\n"
     ]
    }
   ],
   "source": [
    "#@title\n",
    "!pip install --upgrade deeproc"
   ]
  },
  {
   "cell_type": "markdown",
   "metadata": {
    "id": "SsR_PTtryR36"
   },
   "source": []
  },
  {
   "cell_type": "markdown",
   "metadata": {
    "id": "5pYpgpmplw87"
   },
   "source": [
    "#Define functions for user input"
   ]
  },
  {
   "cell_type": "code",
   "execution_count": 4,
   "metadata": {
    "cellView": "form",
    "id": "9yyKCbaf_6ld"
   },
   "outputs": [],
   "source": [
    "#@title\n",
    "\n",
    "# Define user input functions\n",
    "\n",
    "# getYes\n",
    "# getChoice\n",
    "# getNumber\n",
    "# getList\n",
    "# getROCgroups\n",
    "\n",
    "import numpy as np\n",
    "\n",
    "def getYes(prompt,yes='y',no='n',default='y'):\n",
    "    #print('*'+prompt+'   '+'*')\n",
    "    response     = input(prompt+'  ')\n",
    "    if default.isupper():\n",
    "        response = response.upper()\n",
    "    if default.islower():\n",
    "        response = response.lower()\n",
    "    if response != yes and response != no: \n",
    "        if response != '':\n",
    "            print(f'Response not recognized, using default: {default}')\n",
    "        response = default\n",
    "        print(f'{default}')\n",
    "    #endif\n",
    "    return response\n",
    "#enddef\n",
    "\n",
    "def getChoice(options=[], default=1):\n",
    "  if len(options) == 0 or not str(default).isdigit():\n",
    "    return 0\n",
    "  \n",
    "  # show options\n",
    "  c = 0\n",
    "  for i in options:\n",
    "    c = c + 1\n",
    "    print(f'  {c}. {i}')\n",
    "\n",
    "  # get choice\n",
    "  choice = 0\n",
    "  while not str(choice).isdigit() or choice<1 or choice>len(options):\n",
    "    choice = input(f'\\nPlease indicate your choice [default {default}]:')\n",
    "    if choice == '':\n",
    "      choice = default\n",
    "      print(f'{choice:d}')\n",
    "    if str(choice).isdigit():\n",
    "      choice = int(choice)\n",
    "  \n",
    "  return choice\n",
    "#enddef\n",
    "\n",
    "def getNumber(prompt='Please enter a number', requireInt=False, \\\n",
    "              default=None, requireMin=-np.Inf, requireMax=np.Inf):\n",
    "    invalid = True\n",
    "    while invalid:\n",
    "        response = input(prompt+'  ')\n",
    "        if response == '' and default is not None:\n",
    "            if requireInt:\n",
    "                response = int(default)\n",
    "                print(f'{response:d}')\n",
    "            else:\n",
    "                response = float(default)\n",
    "                print(f'{response:0.3f}')\n",
    "            #endif\n",
    "            break\n",
    "        else:\n",
    "            try:\n",
    "                response = float(response)\n",
    "                if requireInt:\n",
    "                    response = int(response)\n",
    "                if response >= requireMin and response <= requireMax:\n",
    "                    break\n",
    "                    #invalid = False\n",
    "                else:\n",
    "                    print(f'Value out of range [{requireMin}, {requireMax}], try again.')\n",
    "                #endif\n",
    "            except ValueError:\n",
    "                print('Not a number, try again.')\n",
    "            #endtry\n",
    "        #endif\n",
    "    #endwhile\n",
    "    return response\n",
    "#enddef\n",
    "\n",
    "def getList(prompt='Please enter a horizontal list of comma separated ' + \\\n",
    "                   'values on one or more lines, with a final blank line.',\n",
    "            requiredLength=0,\n",
    "            requiredLengthMessage='Length does not match. Please try again.',\n",
    "            require01=False,\n",
    "            default=None):\n",
    "  if default is not None:\n",
    "    prompt = prompt + f'default = {default}\\n: '\n",
    "  c = 0\n",
    "  firstTry = True\n",
    "  failed01 = False\n",
    "  while c != requiredLength or firstTry or failed01:\n",
    "    if not firstTry and not failed01:\n",
    "      print(requiredLengthMessage)\n",
    "    text  = input(prompt)\n",
    "    if text == '':\n",
    "      alist = default\n",
    "      break\n",
    "    alist = [i for i in list(text.split(\",\"))]\n",
    "    c     = 0\n",
    "    failed01 = False\n",
    "    for item in alist:\n",
    "      try:\n",
    "        alist[c] = float(item)\n",
    "      except:\n",
    "        alist[c]   = np.nan\n",
    "        break\n",
    "      if require01 and alist[c]!=0.0 and alist[c]!=1.0:\n",
    "        print('List values must be in [0,1]')\n",
    "        failed01 = True\n",
    "        break\n",
    "      c = c + 1\n",
    "    #endfor\n",
    "    if requiredLength == 0 and not failed01:\n",
    "      break\n",
    "    firstTry = False\n",
    "  #endwhile\n",
    "  return alist\n",
    "#enddef\n",
    "\n",
    "def getROCgroups(prompt, default):\n",
    "    pArea_range_text = ''\n",
    "    while pArea_range_text.find(':') == -1:\n",
    "        if pArea_range_text != '':\n",
    "            print('Each group or range needs a \":\", please try again.') \n",
    "        pArea_range_text = input(prompt)\n",
    "\n",
    "    if   pArea_range_text == '':\n",
    "        pArea_range=default\n",
    "    else:\n",
    "        # given input text:        '[0:0.2],[0.2:0.5],[0.5:1.0]'\n",
    "        # create a list of lists: [[0.0,0.2], [0.2,0.5], [0.5,1.0]]\n",
    "        pArea_rangex = [i for i in list(pArea_range_text.split(\",\"))]\n",
    "        pArea_range  = []\n",
    "        all_parts    = [] # not used\n",
    "        try:\n",
    "            for j in pArea_rangex:\n",
    "                j2 = j.strip('[ ]')\n",
    "                one_part = []\n",
    "                for k in j2.split(\":\"):\n",
    "                    one_part  = one_part    + [float(k)]\n",
    "                    all_parts = all_parts   + [float(k)] # not used\n",
    "                pArea_range   = pArea_range + [one_part]\n",
    "                #endfor\n",
    "            #endfor\n",
    "        except ValueError:\n",
    "            print('Response not recognized')\n",
    "            raise\n",
    "        #endtry\n",
    "    #endif\n",
    "\n",
    "    # assume pArea_range is lowest to highest as requested (not checked)\n",
    "\n",
    "    # assess if pArea ranges completely span [0,1]\n",
    "    num_parts      = len(pArea_range)      \n",
    "    pArea_complete = 0\n",
    "    if pArea_range[0][0]==0.0 and pArea_range[-1][-1]==1.0:\n",
    "        pArea_complete = 1 # assume completeness unless we find otherwise...\n",
    "        if num_parts > 1:\n",
    "            for i in np.arange(0,num_parts-1):\n",
    "                if pArea_range[i][1]!=pArea_range[i+1][0]:\n",
    "                    pArea_complete = 0\n",
    "                #endif\n",
    "            #endfor\n",
    "        #endif\n",
    "    #endif\n",
    "    return pArea_range, pArea_complete\n",
    "#enddef"
   ]
  },
  {
   "cell_type": "markdown",
   "metadata": {
    "id": "pW9XfooUmSIV"
   },
   "source": [
    "# Define functions for example data\n",
    "### To load and classify data"
   ]
  },
  {
   "cell_type": "code",
   "execution_count": 8,
   "metadata": {
    "cellView": "form",
    "id": "grK7F_DY9U0e"
   },
   "outputs": [],
   "source": [
    "#@title\n",
    "# Define function to load data and generate example classification results\n",
    "\n",
    "# Detect heart disease with Statlog Heart data\n",
    "# for results to use in Deep ROC analysis\n",
    "\n",
    "import pandas as pd\n",
    "\n",
    "def loadHeart():\n",
    "  url          = 'https://raw.githubusercontent.com/DR3AM-Hub/BayesianROC/main/heart.csv'\n",
    "  data         = pd.read_csv(url)\n",
    "  print(\"\\nThe Statlog heart data has {0[0]} rows and {0[1]} columns.\".format(data.shape))\n",
    "  target       = \"heartDisease\"\n",
    "  diag_map     = {1:0, 2:1}  # 1 absence, 2 presence of heart disease\n",
    "  data[target] = data[target].map(diag_map) # series.map\n",
    "  temp         = list(data.columns)\n",
    "  predictors   = temp.copy()\n",
    "  predictors.remove(target)\n",
    "  X = np.array(data[predictors])\n",
    "  y = np.array(data[target])\n",
    "  patients = len(y)\n",
    "  pos      = len(y[y == 1])\n",
    "  neg      = len(y[y == 0])\n",
    "  print(f'\\nThe data have {patients} diagnoses, {pos} with disease and {neg} without.')\n",
    "  testSize = 0.2\n",
    "  return X, y, testSize\n",
    "#enddef\n",
    "\n",
    "def runClassifier(clfChoice, X, y, testSize, numFolds):\n",
    "  from sklearn.svm             import SVC                    as svc\n",
    "  from sklearn.ensemble        import RandomForestClassifier as rf\n",
    "  from sklearn.model_selection import train_test_split\n",
    "  # Note: the following are simplified examples, instead of best practice,\n",
    "  #       with single fixed values for hyperparameters.\n",
    "  if   clfChoice == 1:\n",
    "    clf = svc(kernel='linear', probability=True, class_weight='balanced')\n",
    "  elif clfChoice == 2:\n",
    "    clf = svc(kernel='rbf', probability=True, class_weight='balanced')\n",
    "  elif clfChoice == 3:\n",
    "    clf = rf(random_state=1, min_samples_split=75, class_weight='balanced')\n",
    "  random_state = 18\n",
    "  foldScores = [None] * numFolds\n",
    "  foldLabels = [None] * numFolds\n",
    "  for f in range(numFolds):\n",
    "    X_train, X_test, y_train, y_test = \\\n",
    "      train_test_split(X, y, test_size=testSize, random_state=random_state+f)\n",
    "    clf.fit(X_train, y_train)\n",
    "    tempScores    = clf.predict_proba(X_test)\n",
    "    foldScores[f] = tempScores[:, 1]\n",
    "    foldLabels[f] = y_test\n",
    "  #endfor\n",
    "  if numFolds == 1:\n",
    "    foldScores = foldScores[0]\n",
    "    foldLabels = foldLabels[0]\n",
    "  #endif\n",
    "  return foldScores, foldLabels\n",
    "#enddef"
   ]
  },
  {
   "cell_type": "markdown",
   "metadata": {
    "id": "nr_KOdkHmir3"
   },
   "source": [
    "# Get input\n",
    "### Enter your own results, or hit enter for everything to use example results and settings"
   ]
  },
  {
   "cell_type": "code",
   "execution_count": 9,
   "metadata": {
    "cellView": "form",
    "colab": {
     "base_uri": "https://localhost:8080/"
    },
    "id": "EFDeWIp-xUrD",
    "outputId": "b9d44545-41cb-4fee-e040-7324985ad9d9"
   },
   "outputs": [
    {
     "name": "stdout",
     "output_type": "stream",
     "text": [
      "Deep ROC analysis examines groups (ranges) in an ROC plot by:\n",
      "  1. FPR\n",
      "  2. TPR\n",
      "\n",
      "Please indicate your choice [default 1]:2\n",
      "Use bins of equal size? [y]/n:   y\n",
      "\n",
      "Enter the number of groups/bins between 2 and 50 inclusive [default 3]:  3\n",
      "groups = [ [0.000:0.333], [0.333:0.667], [0.667:1.000]]\n",
      "\n",
      "To create a Deep ROC object, you can input\n",
      "  1. Classification scores (probabilities) and labels from a single test set\n",
      "  2. Classification scores (probabilities) and labels from multiple test folds\n",
      "  3. ROC curve coordinates (FPR, TPR) from a single test\n",
      "\n",
      "Please indicate your choice [default 1]:1\n",
      "\n",
      "Do you want to input scores (and labels) as:\n",
      "  1. Pasted horizontal lists of comma-separated values\n",
      "  2. Lists saved from a classifier run on Statlog Heart (example) data\n",
      "\n",
      "Please indicate your choice [default 1]:1\n",
      "\n",
      "Paste scores as a comma-separated list:\n",
      "default = [0.95, 0.9, 0.8, 0.7, 0.65, 0.64, 0.63, 0.62, 0.61, 0.6, 0.5, 0.49, 0.48, 0.47, 0.46, 0.45, 0.44, 0.43, 0.4, 0.2]\n",
      ": \n",
      "Paste labels as a comma-separated list in {0,1}:\n",
      "default = [1, 1, 0, 1, 1, 1, 0, 0, 1, 0, 1, 0, 1, 0, 0, 0, 1, 0, 1, 0]\n",
      ": \n"
     ]
    }
   ],
   "source": [
    "#@title\n",
    "\n",
    "# Gather user input\n",
    "# The previous cell defines input functions used in this cell\n",
    "\n",
    "from sklearn.metrics import roc_curve\n",
    "\n",
    "# Get input about the DeepROC analysis and ROC data\n",
    "print('Deep ROC analysis examines groups (ranges) in an ROC plot by:')\n",
    "options    = [None] * 2\n",
    "options[0] = 'FPR'\n",
    "options[1] = 'TPR'\n",
    "grpChoice  = getChoice(options=options, default=1)\n",
    "if grpChoice == 1:\n",
    "  groupAxis = 'FPR'\n",
    "else:\n",
    "  groupAxis = 'TPR'\n",
    "#endif\n",
    "\n",
    "prompt = 'Use bins of equal size? [y]/n: '\n",
    "equalGroups = getYes(prompt)\n",
    "print('')\n",
    "if equalGroups:\n",
    "  numGroups = getNumber(prompt='Enter the number of groups/bins between 2 and 50 inclusive [default 3]:',\n",
    "                        default=3, requireInt=True, requireMin=2, requireMax=50)\n",
    "  groupsSpan01 = True\n",
    "  # create and print the groups\n",
    "  groups       = [None] * numGroups\n",
    "  print(f'groups = [ ', end='')\n",
    "  for g in range(0, numGroups):\n",
    "    a         = g     * (1/numGroups)\n",
    "    b         = (g+1) * (1/numGroups)\n",
    "    groups[g] = [a, b]\n",
    "    if g > 0:\n",
    "      print(', ', end='')\n",
    "    print(f'[{a:0.3f}:{b:0.3f}]', end='')\n",
    "  print(']')\n",
    "else:\n",
    "  prompt = 'Enter the groups, lowest to highest: \\n'+\\\n",
    "           'default: [0:0.33],[0.33:0.66],[0.66:1.0]\\n:'\n",
    "  groups, groupsSpan01 = getROCgroups(prompt, default=[[0,0.33],[0.33,0.66],[0.66,1.0]])\n",
    "\n",
    "print('\\nTo create a Deep ROC object, you can input')\n",
    "options    = [None] * 3\n",
    "options[0] = 'Classification scores (probabilities) and labels from a single test set'\n",
    "options[1] = 'Classification scores (probabilities) and labels from multiple test folds'\n",
    "options[2] = 'ROC curve coordinates (FPR, TPR) from a single test'\n",
    "#options[3] = 'Mean ROC curve coordinates (FPR, TPR) derived from multiple folds'\n",
    "rocChoice  = getChoice(options=options, default=1)\n",
    "\n",
    "print('\\nDo you want to input scores (and labels) as:')\n",
    "options    = [None] * 2\n",
    "options[0] = 'Pasted horizontal lists of comma-separated values'\n",
    "options[1] = 'Lists saved from a classifier run on Statlog Heart (example) data'\n",
    "# options[2] = 'Vertical columns in an uploaded file'\n",
    "fmtChoice  = getChoice(options=options, default=1)\n",
    "\n",
    "if fmtChoice == 2:\n",
    "  print('\\nWhat classifier would you like to run:')\n",
    "  options    = [None] * 3\n",
    "  options[0] = 'A linear support vector machine'\n",
    "  options[1] = 'A Gaussian RBF support vector machine'\n",
    "  options[2] = 'A random forest'\n",
    "  clfChoice  = getChoice(options=options, default=1)\n",
    "#endif\n",
    "\n",
    "# run classifier if applicable\n",
    "if fmtChoice == 2:\n",
    "  X, y, testSize = loadHeart()\n",
    "  if   rocChoice == 1 or rocChoice == 3:\n",
    "    scores, labels = runClassifier(clfChoice, X, y, testSize, 1)  # 1 validation set/fold\n",
    "    if rocChoice == 3:\n",
    "      fpr, tpr, threshold = roc_curve(labels, scores)\n",
    "  elif rocChoice == 2:\n",
    "    numFolds = getNumber(prompt='\\nHow many folds?', requireInt=True, \n",
    "                         requireMin=2, requireMax=10000)\n",
    "    foldScores, foldLabels = runClassifier(clfChoice, X, y, testSize, numFolds)\n",
    "  #endif\n",
    "else:\n",
    "\n",
    "  if rocChoice == 1:\n",
    "    if fmtChoice == 1:\n",
    "      defaultScores = [0.95,  0.9,  0.8,  0.7, 0.65, 0.64, 0.63, 0.62, 0.61, 0.60, 0.5, 0.49, 0.48, 0.47, 0.46,\\\n",
    "                      0.45, 0.44, 0.43, 0.40,  0.2 ]\n",
    "      defaultLabels = [   1,    1,    0,    1,    1,    1,    0,    0,    1,    0,   1,    0,    1,    0,    0,\\\n",
    "                          0,    1,    0,    1,    0 ]\n",
    "      scores   = getList('\\nPaste scores as a comma-separated list:\\n', default=defaultScores)\n",
    "      labels   = getList('Paste labels as a comma-separated list in {0,1}:\\n', \n",
    "                        requiredLength = len(scores), require01=True, default=defaultLabels)\n",
    "    #elif fmtChoice == 3:\n",
    "    #  scores   = data['scores']\n",
    "    #  labels   = data['labels']\n",
    "    #endif\n",
    "\n",
    "  elif   rocChoice == 2:\n",
    "    if   fmtChoice == 1:\n",
    "      numFolds = getNumber(prompt='\\nHow many folds?', requireInt=True, \n",
    "                          requireMin=2, requireMax=10000)\n",
    "      foldScores   = [None] * numFolds\n",
    "      foldLabels   = [None] * numFolds\n",
    "      fpr          = [None] * numFolds\n",
    "      tpr          = [None] * numFolds\n",
    "      threshold    = [None] * numFolds\n",
    "\n",
    "      for f in range(numFolds):\n",
    "        # Defaults are 2 folds of example ROC data\n",
    "        if   f == 0:\n",
    "          defaultScores = [0.95,  0.9,  0.8,  0.7, 0.65, 0.64, 0.63, 0.62, 0.61, 0.60, 0.5, 0.49, 0.48, 0.47, 0.46,\\\n",
    "                          0.45, 0.44, 0.43, 0.40,  0.2 ]\n",
    "          defaultLabels = [   1,    1,    0,    1,    1,    1,    0,    0,    1,    0,   1,    0,    1,    0,    0,\\\n",
    "                              0,    1,    0,    1,    0 ]\n",
    "        elif f == 1:\n",
    "          defaultScores = [0.95,  0.9,  0.8,  0.7, 0.65, 0.64, 0.63, 0.62, 0.61, 0.60, 0.5, 0.49, 0.48, 0.47, 0.46,\\\n",
    "                          0.45, 0.44, 0.43, 0.40,  0.2 ]\n",
    "          defaultLabels = [   1,    1,    0,    1,    1,    0,    0,    0,    0,    0,   0,    0,    1,    0,    0,\n",
    "                              0,    0,    0,    0,    0 ]\n",
    "        foldScores[f] = getList('\\nPaste scores as a comma-separated list:\\n', default=defaultScores)\n",
    "        foldLabels[f] = getList('Paste labels as a comma-separated list in {0,1}:\\n', \n",
    "                                requiredLength = len(foldScores[f]), default=defaultLabels)\n",
    "        \n",
    "        fpr[f], tpr[f], threshold[f] = roc_curve(foldLabels[f], foldScores[f])\n",
    "      #endfor\n",
    "    #elif fmtChoice == 3:\n",
    "    #  numFolds = len(data.columns)/2\n",
    "    #  for f in range(numFolds):\n",
    "    #    foldScores[f] = data[f'scores{f}'].squeeze()\n",
    "    #    foldLabels[f] = data[f'labels{f}'].squeeze()\n",
    "    #    fpr[f], tpr[f], threshold[f] = roc_curve(foldLabels[f], foldScores[f])\n",
    "    #  #endfor\n",
    "    #endif\n",
    "\n",
    "  elif rocChoice == 3:   # or rocChoice == 4:\n",
    "    fpr      = getList('\\nPaste FPR values as a comma-separated list:\\n')\n",
    "    tpr      = getList('Paste TPR values as a comma-separated list:\\n', requiredLength = len(fpr))\n",
    "  #endif\n",
    "#endif\n"
   ]
  },
  {
   "cell_type": "markdown",
   "metadata": {
    "id": "yR7M3KiPnVA9"
   },
   "source": [
    "# Compute deep ROC analysis"
   ]
  },
  {
   "cell_type": "code",
   "execution_count": 10,
   "metadata": {
    "cellView": "form",
    "colab": {
     "base_uri": "https://localhost:8080/"
    },
    "id": "dmNW8SeObfks",
    "outputId": "881e6031-32f5-47b3-f9bb-b2599fa6d92a"
   },
   "outputs": [
    {
     "name": "stdout",
     "output_type": "stream",
     "text": [
      "Assuming Cost_FN:Cost_FP is 3:1\n",
      "Using sample prevalence: 0.500\n",
      "Deep ROC analysis computed.\n"
     ]
    }
   ],
   "source": [
    "#@title\n",
    "from io import StringIO\n",
    "from contextlib import redirect_stdout\n",
    "from deeproc.DeepROC import DeepROC\n",
    "# print('DeepROC imported.')\n",
    "\n",
    "# Create the deepROC object from input as scores/labels or fpr/tpr\n",
    "if   rocChoice == 1:\n",
    "  aDeepROC     = DeepROC(predicted_scores=scores, labels=labels, poslabel=1)\n",
    "\n",
    "elif rocChoice == 2:\n",
    "  aDeepROC     = DeepROC()\n",
    "  fpr          = [None] * numFolds\n",
    "  tpr          = [None] * numFolds\n",
    "  threshold    = [None] * numFolds\n",
    "  for f in range(numFolds):\n",
    "    fpr[f], tpr[f], threshold[f] = roc_curve(foldLabels[f], foldScores[f])\n",
    "    aDeepROC.set_fold(fpr=fpr[f], tpr=tpr[f], threshold=threshold[f])\n",
    " \n",
    "elif rocChoice == 3:\n",
    "  aDeepROC     = DeepROC()\n",
    "  aDeepROC.set_fpr_tpr(fpr=fpr, tpr=tpr)\n",
    "#endif\n",
    "# print('Deep ROC object created.')\n",
    "\n",
    "# set groups\n",
    "aDeepROC.setGroupsBy(groupAxis=groupAxis, groups=groups, \n",
    "                     groupByClosestInstance=False)\n",
    "# print('Groups set.')\n",
    "\n",
    "# set costs for optimal ROC point in ROC plots and later numeric analysis\n",
    "costs = {'cFN':3, 'cFP':1, 'cTP':0, 'cTN':0, 'costsAreRates':False}\n",
    "print(f\"Assuming Cost_FN:Cost_FP is {costs['cFN']}:{costs['cFP']}\")\n",
    "\n",
    "# set class ratio for optimal ROC point in ROC plots and later numeric analysis\n",
    "if rocChoice == 1 or rocChoice ==3:\n",
    "  print(f'Using sample prevalence: {sum(labels)/len(labels):0.3f}')\n",
    "elif rocChoice == 2:\n",
    "  labels = foldLabels[0]\n",
    "  for f in range(1, numFolds):\n",
    "    labels = labels + foldLabels[f]\n",
    "  print(f'Using weighted average sample prevalence: {sum(labels)/len(labels):0.2f}')\n",
    "#endif\n",
    "pos = sum(labels)\n",
    "neg = len(labels) - sum(labels)\n",
    "foldsNPclassRatio = neg / pos\n",
    "aDeepROC.setFoldsNPclassRatio(foldsNPclassRatio)\n",
    "\n",
    "# capture the text output from analyze (show it later) \n",
    "analysisOutput = StringIO()\n",
    "with redirect_stdout(analysisOutput):\n",
    "  # Deep ROC numeric analysis for each group\n",
    "  if   rocChoice == 1 or rocChoice == 3:\n",
    "    measure_dict = aDeepROC.analyze()\n",
    "    # measure_dict = aDeepROC.analyze(verbose=True)\n",
    "  elif rocChoice == 2:\n",
    "    measure_dict = aDeepROC.analyze(forFolds=True)\n",
    "    # measure_dict = aDeepROC.analyze(forFolds=True, verbose=True)\n",
    "\n",
    "print('Deep ROC analysis computed.')"
   ]
  },
  {
   "cell_type": "markdown",
   "metadata": {
    "id": "myfrGDlGwh4h"
   },
   "source": [
    "# Deep ROC analysis plots"
   ]
  },
  {
   "cell_type": "code",
   "execution_count": 13,
   "metadata": {
    "cellView": "form",
    "colab": {
     "base_uri": "https://localhost:8080/",
     "height": 1000
    },
    "id": "AcAz_8I7w4Dy",
    "outputId": "4aeb84f2-0352-4b36-845e-8f7e23f3bb34"
   },
   "outputs": [
    {
     "name": "stdout",
     "output_type": "stream",
     "text": [
      "Plots in deep ROC analysis (Carrington et al, 2022) show performance in\n",
      "subgroups. AUC in part of an ROC curve, is the concordant partial AUC,\n",
      "normalized (AUCn_i). It is an area-weighted average of average sensitivity\n",
      "(vertical) and average specificity (horizontal).\n",
      "\n",
      "Legend: \n",
      "   vertical area: yellow (and green for overlap)\n",
      "   horizontal area: blue (and green for overlap)\n",
      "\n",
      "Note: average sensitivity and average specificity are based on areas\n",
      "(area integrals, not line integrals). So, e.g., if the horizontal area\n",
      "is zero, then the corresponding measure or part of a measure is zero.\n",
      "\n",
      "Note: pAUC normalized is average sensitivity.\n",
      "Note: pAUCx normalized is average specificity.\n",
      "Plot annotations can be changed in the code.\n",
      "Annotating with: ['AUCn_i', 'pAUCn', 'pAUCxn', 'avgPPV', 'avgOR']\n",
      "\n",
      "See comments in code for a detailed description of measures.\n",
      "\n"
     ]
    },
    {
     "data": {
      "image/png": "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\n",
      "text/plain": [
       "<Figure size 432x288 with 1 Axes>"
      ]
     },
     "metadata": {
      "needs_background": "light"
     },
     "output_type": "display_data"
    },
    {
     "data": {
      "image/png": "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\n",
      "text/plain": [
       "<Figure size 432x288 with 1 Axes>"
      ]
     },
     "metadata": {
      "needs_background": "light"
     },
     "output_type": "display_data"
    },
    {
     "data": {
      "image/png": "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\n",
      "text/plain": [
       "<Figure size 432x288 with 1 Axes>"
      ]
     },
     "metadata": {
      "needs_background": "light"
     },
     "output_type": "display_data"
    }
   ],
   "source": [
    "#@title\n",
    "import matplotlib.pyplot as plt\n",
    "\n",
    "# Deep ROC plots, one per group\n",
    "print('Plots in deep ROC analysis (Carrington et al, 2022) show performance in')\n",
    "print('subgroups. AUC in part of an ROC curve, is the concordant partial AUC,')\n",
    "print('normalized (AUCn_i). It is an area-weighted average of average sensitivity')\n",
    "print('(vertical) and average specificity (horizontal).\\n')\n",
    "\n",
    "print('Legend: \\n   vertical area: yellow (and green for overlap)')\n",
    "print('   horizontal area: blue (and green for overlap)\\n')\n",
    "\n",
    "print('Note: average sensitivity and average specificity are based on areas')\n",
    "print('(area integrals, not line integrals). So, e.g., if the horizontal area')\n",
    "print('is zero, then the corresponding measure or part of a measure is zero.\\n')\n",
    "\n",
    "whichMeasures  = []\n",
    "\n",
    "##    Annotate plot with pre-test measures...\n",
    "\n",
    "## AUC in part of a ROC curve: concordant partial AUC\n",
    "# whichMeasures += ['AUC_i']  # 0.5*(vert+horiz area), sum=AUC\n",
    "whichMeasures   += ['AUCn_i'] # normalized for comparisons to AUC,\n",
    "                              # to other parts re AUCn_i, or to other \n",
    "                              # normalized measures, e.g. avgSens\n",
    "\n",
    "## C in part of a ROC curve: partial C statistic\n",
    "# whichMeasures += ['C_i']  # 0.5*(vert+horiz \"placement values\"), sum=C\n",
    "# whichMeasures += ['Cn_i'] # normalized for comparisons to C, AUC, etc\n",
    "\n",
    "## Sensitivity in part of a ROC curve: partial AUC\n",
    "# whichMeasures += ['pAUC']   # vertical area; sum=AUC\n",
    "whichMeasures += ['pAUCn']  # =avgSens, normalized for comparisons\n",
    "print('Note: pAUC normalized is average sensitivity.')\n",
    "# whichMeasures += ['avgSens']  # discrete computation, =pAUCn\n",
    "\n",
    "## Specificity in part of a ROC curve: horizontal partial AUC\n",
    "# whichMeasures += ['pAUCx']  # horizontal area; sum=AUC\n",
    "whichMeasures += ['pAUCxn'] # =avgSpec, normalized for comparisons\n",
    "print('Note: pAUCx normalized is average specificity.')\n",
    "# whichMeasures += ['avgSpec']  # discrete computation, =pAUCxn\n",
    "\n",
    "##    Annotate plot with post-test measures...\n",
    "\n",
    "whichMeasures += ['avgPPV'] # avg positive predictive value, precision\n",
    "# whichMeasures += ['avgNPV'] # avg negative predictive value, inverse precision\n",
    "# whichMeasures += ['avgLRp'] # avg likelihood ratio positive\n",
    "# whichMeasures += ['avgLRn'] # avg likelihood ratio negative\n",
    "whichMeasures += ['avgOR']  # avg odds ratio\n",
    "\n",
    "##    Annotate plot with additional pre-test measures...\n",
    "\n",
    "# whichMeasures += ['Uy_count']   # vertical part of U statistic\n",
    "# whichMeasures += ['C_area_y']   # vertical \"placement value\", sum=C\n",
    "# whichMeasures += ['Cn_avgSens'] # normalized for comparisons\n",
    "\n",
    "# whichMeasures += ['Ux_count']   # horizontal part of U statistic\n",
    "# whichMeasures += ['C_area_x']   # horizontal \"placement value\", sum=C\n",
    "# whichMeasures += ['Cn_avgSpec'] # normalized for comparisons\n",
    "\n",
    "## Specificity in part of a ROC curve FPR=[x,1]: partial area index\n",
    "if groupAxis == 'FPR':\n",
    "  print('', end='')  # do nothing\n",
    "  # whichMeasures += ['PAI']  \n",
    "  # print('Note: We compute a proxy measure for PAI.')\n",
    "\n",
    "## Erroneous attempt at AUC in a part: standardized partial area\n",
    "if groupAxis == 'FPR':\n",
    "  print('', end='')  # do nothing\n",
    "  # whichMeasures += ['sPA']\n",
    "  # print('Note: We compute a proxy measure for sPA.')\n",
    "\n",
    "print('Plot annotations can be changed in the code.')\n",
    "print(f'Annotating with: {whichMeasures}\\n')\n",
    "print(f'See comments in code for a detailed description of measures.\\n')\n",
    "\n",
    "numgroups = len(groups)\n",
    "for i in range(0, numgroups):\n",
    "  if   rocChoice == 1:\n",
    "    aDeepROC.plotGroup(plotTitle=f'Deep ROC Plot for group {i+1}', \n",
    "                        groupIndex=i, showError=False, showThresholds=True, \n",
    "                        showOptimalROCpoints=True, costs=costs, \n",
    "                        saveFileName=None, numShowThresh=20, showPlot=False, \n",
    "                        labelThresh=True, full_fpr_tpr=True)\n",
    "  elif rocChoice == 2:\n",
    "    aDeepROC.plotGroupForFolds(plotTitle=f'Deep ROC Plot for group {i+1}', \n",
    "                        groupIndex=i, foldsNPclassRatio=foldsNPclassRatio, \n",
    "                        showError=False, showThresholds=False, \n",
    "                        showOptimalROCpoints=True, costs=costs, \n",
    "                        saveFileName=None, numShowThresh=20, showPlot=False,\n",
    "                        labelThresh=False, full_fpr_tpr=True)\n",
    "  elif rocChoice == 3:\n",
    "    aDeepROC.plotGroup(plotTitle=f'Deep ROC Plot for group {i+1}', \n",
    "                        groupIndex=i, showError=False, showThresholds=False, \n",
    "                        showOptimalROCpoints=True, costs=costs, \n",
    "                        saveFileName=None, numShowThresh=20, showPlot=False, \n",
    "                        labelThresh=False, full_fpr_tpr=True)\n",
    "  #endif\n",
    "\n",
    "  top = False   # annotate on the bottom\n",
    "  if   aDeepROC.groupAxis == 'FPR' and measure_dict[i]['avgSens'] < 0.5:\n",
    "    top = True  # annotate on the top, if area is bottom-half\n",
    "  elif aDeepROC.groupAxis == 'TPR' and measure_dict[i]['avgSpec'] < 0.5:\n",
    "    top = True  \n",
    "  if aDeepROC.groupAxis == 'FPR' or aDeepROC.groupAxis == 'TPR':\n",
    "    aDeepROC.annotateGroup(i, measure_dict, whichMeasures, top=top)\n",
    "  #endif\n",
    "  plt.show()\n",
    "#endfor"
   ]
  },
  {
   "cell_type": "markdown",
   "metadata": {
    "id": "D0LK3_jI8B5u"
   },
   "source": [
    "# Deep ROC analysis numbers"
   ]
  },
  {
   "cell_type": "code",
   "execution_count": 14,
   "metadata": {
    "cellView": "form",
    "colab": {
     "base_uri": "https://localhost:8080/"
    },
    "id": "JQ_uZb_o8Cvn",
    "outputId": "2d1da3b2-407d-4a61-9e6f-8a4cf34a464b"
   },
   "outputs": [
    {
     "name": "stdout",
     "output_type": "stream",
     "text": [
      "Deep ROC analysis (Carrington et al, 2022) shows performance in subgroups.\n",
      "AUC in part of an ROC curve, is the concordant partial AUC, normalized\n",
      "(AUCn_i). It is an area-weighted average of average sensitivity (vertical)\n",
      "and average specificity (horizontal).\n",
      "\n",
      "Note: average sensitivity and average specificity are based on areas\n",
      "(area integrals, not line integrals). So, e.g., if the horizontal area\n",
      "is zero, then the corresponding measure or part of a measure is zero.\n",
      "\n",
      "More measures can be selected in the code with verbose=True.\n",
      "\n",
      "\n",
      "Group 1:\n",
      "FPR              = [0.000 0.100]\n",
      "TPR              = [0.000 0.333]\n",
      "Thresholds       = [inf   0.683]\n",
      "\n",
      "C_1              = 0.1700  (Partial C statistic)\n",
      "Cn_1             = 0.7846  (Normalized partial C statistic)\n",
      " \n",
      "AUC_1            = 0.1700  (Concordant Partial AUC)\n",
      "AUCn_1           = 0.7846  (Normalized concordant partial AUC)\n",
      " \n",
      "pAUCn_1          = 0.2000  (Average sensitivity)\n",
      "pAUCxn_1         = 0.9600  (Average specificity)\n",
      "avgSens_1        = 0.2000  computed with discrete method\n",
      "avgSpec_1        = 0.9600  computed with discrete method\n",
      " \n",
      "avgPPV_1         = 0.8695  computed with discrete method\n",
      "avgNPV_1         = 0.5380  computed with discrete method\n",
      " \n",
      "\n",
      "Group 2:\n",
      "FPR              = [0.100 0.400]\n",
      "TPR              = [0.333 0.667]\n",
      "Thresholds       = [0.683 0.533]\n",
      "\n",
      "C_2              = 0.2100  (Partial C statistic)\n",
      "Cn_2             = 0.6632  (Normalized partial C statistic)\n",
      " \n",
      "AUC_2            = 0.2100  (Concordant Partial AUC)\n",
      "AUCn_2           = 0.6632  (Normalized concordant partial AUC)\n",
      " \n",
      "pAUCn_2          = 0.5333  (Average sensitivity)\n",
      "pAUCxn_2         = 0.7800  (Average specificity)\n",
      "avgSens_2        = 0.5333  computed with discrete method\n",
      "avgSpec_2        = 0.7800  computed with discrete method\n",
      " \n",
      "avgPPV_2         = 0.7050  computed with discrete method\n",
      "avgNPV_2         = 0.6131  computed with discrete method\n",
      " \n",
      "\n",
      "Group 3:\n",
      "FPR              = [0.400 1.000]\n",
      "TPR              = [0.667 1.000]\n",
      "Thresholds       = [0.533 0.200]\n",
      "\n",
      "C_3              = 0.3000  (Partial C statistic)\n",
      "Cn_3             = 0.6429  (Normalized partial C statistic)\n",
      " \n",
      "AUC_3            = 0.3000  (Concordant Partial AUC)\n",
      "AUCn_3           = 0.6429  (Normalized concordant partial AUC)\n",
      " \n",
      "pAUCn_3          = 0.8333  (Average sensitivity)\n",
      "pAUCxn_3         = 0.3000  (Average specificity)\n",
      "avgSens_3        = 0.8333  computed with discrete method\n",
      "avgSpec_3        = 0.3000  computed with discrete method\n",
      " \n",
      "avgPPV_3         = 0.5502  computed with discrete method\n",
      "avgNPV_3         = 0.6701  computed with discrete method\n",
      " \n",
      "\n"
     ]
    }
   ],
   "source": [
    "#@title\n",
    "# Deep ROC analsis per group\n",
    "print('Deep ROC analysis (Carrington et al, 2022) shows performance in subgroups.')\n",
    "print('AUC in part of an ROC curve, is the concordant partial AUC, normalized')\n",
    "print('(AUCn_i). It is an area-weighted average of average sensitivity (vertical)')\n",
    "print('and average specificity (horizontal).\\n')\n",
    "\n",
    "print('Note: average sensitivity and average specificity are based on areas')\n",
    "print('(area integrals, not line integrals). So, e.g., if the horizontal area')\n",
    "print('is zero, then the corresponding measure or part of a measure is zero.\\n')\n",
    "\n",
    "print('More measures can be selected in the code with verbose=True.\\n')\n",
    "\n",
    "analysisOutput.seek(0)\n",
    "print(analysisOutput.read())"
   ]
  },
  {
   "cell_type": "markdown",
   "metadata": {
    "id": "ZRB-8kaunIMq"
   },
   "source": [
    "# Concordance matrix\n",
    "\n"
   ]
  },
  {
   "cell_type": "code",
   "execution_count": 15,
   "metadata": {
    "cellView": "form",
    "colab": {
     "base_uri": "https://localhost:8080/",
     "height": 352
    },
    "id": "3hjm2FWYnJAO",
    "outputId": "c4dc70c8-af5d-4f80-ba14-1136af3176c1"
   },
   "outputs": [
    {
     "name": "stdout",
     "output_type": "stream",
     "text": [
      "ConcordanceMatrix imported.\n",
      "The concordance matrix (Carrington, 2020) shows the relationship of instances to the ROC plot.\n",
      "It applies to a set or fold of empirical score/label data.\n"
     ]
    },
    {
     "data": {
      "image/png": "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\n",
      "text/plain": [
       "<Figure size 432x288 with 1 Axes>"
      ]
     },
     "metadata": {
      "needs_background": "light"
     },
     "output_type": "display_data"
    }
   ],
   "source": [
    "#@title\n",
    "\n",
    "from deeproc.ConcordanceMatrixPlot import ConcordanceMatrixPlot\n",
    "print('ConcordanceMatrix imported.')\n",
    "\n",
    "# show enhanced ROC plot\n",
    "if   rocChoice == 1:\n",
    "  print('The concordance matrix (Carrington, 2020) shows the relationship of instances to the ROC plot.')\n",
    "  print('It applies to a set or fold of empirical score/label data.')\n",
    "  aCMplot = ConcordanceMatrixPlot(aDeepROC)\n",
    "  aCMplot.plot(plotTitle=f'Concordance Matrix',\n",
    "               showThresholds=True, showOptimalROCpoints=True, costs=costs,\n",
    "               saveFileName=None, numShowThresholds=20, \n",
    "               showPlot=True, labelThresh=True)\n",
    "elif rocChoice == 2:\n",
    "  print('The concordance matrix (Carrington, 2020) applies to a set or fold of empirical')\n",
    "  print('score/label data, not a mean ROC curve/plot.')\n",
    "elif rocChoice == 3:\n",
    "  print('A concordance matrix is not available for ROC input data in (fpr, tpr) form. Scores and labels are required.')\n"
   ]
  },
  {
   "cell_type": "markdown",
   "metadata": {
    "id": "mFP0MDISnJdK"
   },
   "source": [
    "# Enhancements in our ROC plots"
   ]
  },
  {
   "cell_type": "code",
   "execution_count": 16,
   "metadata": {
    "cellView": "form",
    "colab": {
     "base_uri": "https://localhost:8080/",
     "height": 405
    },
    "id": "hb-t1FeJnJ9T",
    "outputId": "087d6d22-1959-4078-d235-c9533d782434"
   },
   "outputs": [
    {
     "name": "stdout",
     "output_type": "stream",
     "text": [
      "Enhancements include:\n",
      "  - showing thresholds in the plot\n",
      "  - including thresholds that are ties in score along sloped segments\n",
      "  - one or more optimal ROC point(s) (red)\n",
      "  - the accurate threshold at (0, 0), versus sklearn's arbitrary max(t)+1\n"
     ]
    },
    {
     "data": {
      "image/png": "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\n",
      "text/plain": [
       "<Figure size 432x288 with 1 Axes>"
      ]
     },
     "metadata": {
      "needs_background": "light"
     },
     "output_type": "display_data"
    },
    {
     "data": {
      "text/plain": [
       "<Figure size 432x288 with 0 Axes>"
      ]
     },
     "metadata": {},
     "output_type": "display_data"
    }
   ],
   "source": [
    "#@title\n",
    "# Enhancements in our ROC plots with optimal ROC points and thresholds\n",
    "\n",
    "# show enhanced ROC plot\n",
    "from matplotlib.pyplot import grid, figure\n",
    "if   rocChoice == 1:\n",
    "  print('Enhancements include:')\n",
    "  print('  - showing thresholds in the plot')\n",
    "  print('  - including thresholds that are ties in score along sloped segments')\n",
    "  print('  - one or more optimal ROC point(s) (red)')\n",
    "  print(\"  - the accurate threshold at (0, 0), versus sklearn's arbitrary max(t)+1\")\n",
    "  fig, ax = aDeepROC.plot(plotTitle='Enhanced ROC Plot',\n",
    "                showThresholds=True, showOptimalROCpoints=True, costs=costs,\n",
    "                saveFileName=None, numShowThresh=20, \n",
    "                showPlot=True, labelThresh=True, full_fpr_tpr=True)\n",
    "  figure(fig.number)\n",
    "elif rocChoice == 2:\n",
    "  # show mean ROC plot\n",
    "  print('Thresholds do not apply to a mean ROC plot (hence none are shown).')\n",
    "  print('The only enhancement in this case, is the optimal ROC point (in red).')\n",
    "\n",
    "  # the following is a work-around until the mean ROC plot without groups\n",
    "  # is fixed to show the optimal ROC point.\n",
    "  # aDeepROC.plot_folds(plotTitle='Mean ROC Plot with folds', \n",
    "  #                     showOptimalROCpoints=True, costs=costs,\n",
    "  #                     saveFileName=None, showPlot=True)\n",
    "  groups_temp = [[0, 1], [0, 1]]\n",
    "  aDeepROC.setGroupsBy(groupAxis=groupAxis, groups=groups_temp, \n",
    "                       groupByClosestInstance=False)\n",
    "  aDeepROC.plotGroupForFolds(plotTitle=f'Enhanced ROC Plot', \n",
    "                        groupIndex=0, foldsNPclassRatio=foldsNPclassRatio, \n",
    "                        showError=False, showThresholds=False, \n",
    "                        showOptimalROCpoints=True, costs=costs, \n",
    "                        saveFileName=None, numShowThresh=20, \n",
    "                        showPlot=True, labelThresh=False, full_fpr_tpr=True)\n",
    "  grid(True)\n",
    "elif rocChoice == 3:\n",
    "  print('Enhancements include:')\n",
    "  print('  - showing thresholds in the plot')\n",
    "  print('  - including thresholds that are ties in score along sloped segments')\n",
    "  print('  - one or more optimal ROC point(s) (red)')\n",
    "  print(\"  - the accurate threshold at (0, 0), versus sklearn's arbitrary max(t)+1\")\n",
    "  aDeepROC.plot(plotTitle='Enhanced ROC Plot',\n",
    "                showThresholds=False, showOptimalROCpoints=True, costs=costs,\n",
    "                saveFileName=None, numShowThresh=20, \n",
    "                showPlot=True, labelThresh=False, full_fpr_tpr=True)\n",
    "  grid(True)\n",
    "#endif"
   ]
  },
  {
   "cell_type": "markdown",
   "metadata": {
    "id": "MlJIQYvunKbp"
   },
   "source": [
    "# Standard ROC plot"
   ]
  },
  {
   "cell_type": "code",
   "execution_count": 17,
   "metadata": {
    "cellView": "form",
    "colab": {
     "base_uri": "https://localhost:8080/",
     "height": 405
    },
    "id": "Lh0UokmQnK_L",
    "outputId": "35761b4e-5f3b-488e-b354-a3600b35db6f"
   },
   "outputs": [
    {
     "name": "stdout",
     "output_type": "stream",
     "text": [
      "The AUC and C statistic are equal in value for empirical ROC curves,\n",
      "as continuous and discrete formulas, respectively. AUC can be computed on\n",
      "fitted ROC curves and mean ROC curves, for which C is unavailable.\n",
      "\n",
      "AUC: 0.6800\n",
      "C statistic: 0.6800\n"
     ]
    },
    {
     "data": {
      "image/png": "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\n",
      "text/plain": [
       "<Figure size 432x288 with 1 Axes>"
      ]
     },
     "metadata": {
      "needs_background": "light"
     },
     "output_type": "display_data"
    }
   ],
   "source": [
    "#@title\n",
    "# Standard AUC, C statistic and ROC plot\n",
    "\n",
    "# show AUC and C statistic\n",
    "print('The AUC and C statistic are equal in value for empirical ROC curves,') \n",
    "print('as continuous and discrete formulas, respectively. AUC can be computed on') \n",
    "print('fitted ROC curves and mean ROC curves, for which C is unavailable.\\n')\n",
    "if   rocChoice == 1:\n",
    "  print(f'AUC: {aDeepROC.getAUC():0.4f}')\n",
    "  print(f'C statistic: {aDeepROC.getC():0.4f}') \n",
    "elif rocChoice == 2:\n",
    "  meanAUC, lowAUC, highAUC, AUCs = aDeepROC.getMeanAUC_andCI()\n",
    "  print(f'AUC or C statistic in each fold: ', end='')\n",
    "  for tempAUC in AUCs:\n",
    "    print(f'{tempAUC:0.4f} ', end='')\n",
    "  print('')\n",
    "  print(f'AUC of Mean ROC: {aDeepROC.getAUCofMeanROC():0.4f}')\n",
    "  print(f'Mean AUC or mean C statistic with CIs: {meanAUC:0.4f} [{lowAUC:0.4f}, {highAUC:0.4f}]')\n",
    "elif rocChoice == 3:\n",
    "  print(f'AUC: {aDeepROC.getAUC():0.4f}')\n",
    "#endif\n",
    "\n",
    "# show standard ROC plot\n",
    "from sklearn.metrics         import roc_curve\n",
    "from matplotlib.pyplot       import figure, plot, title, show, grid\n",
    "from deeproc.Helpers.ROCPlot import plotROC\n",
    "if   rocChoice == 1:\n",
    "  fpr, tpr, threshold = roc_curve(labels, scores, drop_intermediate=False)\n",
    "  plotROC(fpr, tpr, 'ROC plot', numThresh=1, thresh=[0], fancyLabel=None)\n",
    "  grid(True)\n",
    "  #figure()\n",
    "  #plot(fpr, tpr)\n",
    "  #title('ROC plot')\n",
    "elif rocChoice == 2:\n",
    "  # show mean ROC plot\n",
    "  aDeepROC.plot_folds(plotTitle='Mean ROC Plot with folds')\n",
    "elif rocChoice == 3:\n",
    "  plotROC(fpr, tpr, 'ROC plot', numThresh=1, thresh=[0], fancyLabel=None)\n",
    "  grid(True)\n",
    "  #figure()\n",
    "  #plot(fpr, tpr)\n",
    "  #title('ROC plot')\n",
    "#endif"
   ]
  },
  {
   "cell_type": "code",
   "execution_count": null,
   "metadata": {},
   "outputs": [],
   "source": []
  },
  {
   "cell_type": "code",
   "execution_count": null,
   "metadata": {},
   "outputs": [],
   "source": []
  }
 ],
 "metadata": {
  "colab": {
   "collapsed_sections": [],
   "name": "Try Deep ROC Analysis.ipynb",
   "provenance": [],
   "toc_visible": true
  },
  "kernelspec": {
   "display_name": "Python 3 (ipykernel)",
   "language": "python",
   "name": "python3"
  },
  "language_info": {
   "codemirror_mode": {
    "name": "ipython",
    "version": 3
   },
   "file_extension": ".py",
   "mimetype": "text/x-python",
   "name": "python",
   "nbconvert_exporter": "python",
   "pygments_lexer": "ipython3",
   "version": "3.6.13"
  }
 },
 "nbformat": 4,
 "nbformat_minor": 1
}
